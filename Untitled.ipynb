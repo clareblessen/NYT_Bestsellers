{
 "cells": [
  {
   "cell_type": "code",
   "execution_count": 1,
   "metadata": {},
   "outputs": [
    {
     "name": "stdout",
     "output_type": "stream",
     "text": [
      "Requirement already satisfied: mysql-connector-python in /opt/anaconda3/lib/python3.7/site-packages (8.0.18)\n",
      "Requirement already satisfied: protobuf>=3.0.0 in /opt/anaconda3/lib/python3.7/site-packages (from mysql-connector-python) (3.11.1)\n",
      "Requirement already satisfied: setuptools in /opt/anaconda3/lib/python3.7/site-packages (from protobuf>=3.0.0->mysql-connector-python) (41.4.0)\n",
      "Requirement already satisfied: six>=1.9 in /opt/anaconda3/lib/python3.7/site-packages (from protobuf>=3.0.0->mysql-connector-python) (1.12.0)\n",
      "Collecting selenium\n",
      "  Using cached https://files.pythonhosted.org/packages/80/d6/4294f0b4bce4de0abf13e17190289f9d0613b0a44e5dd6a7f5ca98459853/selenium-3.141.0-py2.py3-none-any.whl\n",
      "Requirement already satisfied: urllib3 in /opt/anaconda3/lib/python3.7/site-packages (from selenium) (1.24.2)\n",
      "Installing collected packages: selenium\n",
      "Successfully installed selenium-3.141.0\n"
     ]
    }
   ],
   "source": [
    "#instantiate cursor and load libraries\n",
    "import json\n",
    "import pandas as pd\n",
    "import requests\n",
    "!pip install mysql-connector-python\n",
    "import mysql.connector\n",
    "import config\n",
    "import time\n",
    "import requests\n",
    "!pip install selenium\n",
    "from selenium import webdriver\n",
    "from selenium.webdriver.common.keys import Keys\n",
    "from bs4 import BeautifulSoup as BS"
   ]
  },
  {
   "cell_type": "code",
   "execution_count": null,
   "metadata": {},
   "outputs": [],
   "source": [
    "def get_NYT_ISBNs(books):\n",
    "    ISBNs = []\n",
    "    years = [2015, 2016, 2017, 2018, 2019]\n",
    "    \n",
    "    for book in books:\n",
    "        if book['publish_date'] in years:\n",
    "            ISBN = book['ISBN'][0]['isbn13']\n",
    "            ISBNs.append(ISBN)\n",
    "            \n",
    "    return ISBNs"
   ]
  },
  {
   "cell_type": "code",
   "execution_count": null,
   "metadata": {},
   "outputs": [],
   "source": [
    "get_"
   ]
  },
  {
   "cell_type": "code",
   "execution_count": null,
   "metadata": {},
   "outputs": [],
   "source": [
    "# this function takes in a list of ISBNs that were gathered from the NYT API \n",
    "# and returns a list of dictionaries, where each dictionary reflects data \n",
    "# about the NYT bestseller\n",
    "\n",
    "list_of_NYT_books = []\n",
    "\n",
    "def get_NYTbook_info(ISBNs):\n",
    "    \"\"\"\n",
    "    get_NYTbook_info():\n",
    "    Function returns a list of dictionaries with features describing each NYT bestseller\n",
    "    Params:\n",
    "        ISBNs: list of ISBNs for each NYT bestseller\n",
    "    Returns:\n",
    "        List of dictionaries describing bestselling books\n",
    "    \"\"\"\n",
    "\n",
    "    for ISBN in ISBNs:\n",
    "        \n",
    "        # log into goodreads website \n",
    "        driver.get('https://www.goodreads.com/')\n",
    "        \n",
    "        # wait for website to load\n",
    "        time.sleep(2)\n",
    "        driver.find_element_by_id('userSignInFormEmail').send_keys(config.email_address)\n",
    "        driver.find_element_by_id('user_password').send_keys(config.pw, Keys.ENTER)\n",
    "        time.sleep(2)\n",
    "        \n",
    "        try:\n",
    "            # get the webpage for each ISBN \n",
    "            driver.find_element_by_xpath('/html/body/div[4]/main/div[1]/section[1]/div/div/footer/div[1]/div/form/input').send_keys(ISBN,Keys.ENTER)\n",
    "            time.sleep(2) \n",
    "\n",
    "            # grab the current url to scrape\n",
    "            url = driver.current_url\n",
    "            \n",
    "        # Beautiful soup to scrape each book page for features\n",
    "            html_page = requests.get(url)\n",
    "            soup = bs(html_page.content, 'html.parser')\n",
    "\n",
    "            book_dict = {}\n",
    "\n",
    "            book_dict['title'] = good.get_title(soup)\n",
    "            book_dict['ISBN'] = ISBN\n",
    "            book_dict['author'] = good.get_author(soup)\n",
    "            book_dict['series'] = good.get_series(soup)\n",
    "            book_dict['genre'] = good.get_genre(soup)\n",
    "            book_dict['rating'] = good.get_rating(soup)\n",
    "            book_dict['publish_date'] = good.get_publish_date(soup)\n",
    "            book_dict['publish_company'] = good.get_publishing_company(soup)\n",
    "            book_dict['number_of_pages'] = good.get_pages(soup)\n",
    "            book_dict['format'] = good.get_format(soup)\n",
    "\n",
    "            list_of_NYT_books.append(book_dict)\n",
    "\n",
    "        except AttributeError:\n",
    "            continue\n",
    "        \n",
    "        time.sleep(2)\n",
    "        "
   ]
  },
  {
   "cell_type": "code",
   "execution_count": 40,
   "metadata": {},
   "outputs": [],
   "source": [
    "import urllib.request\n",
    "from xml.etree import ElementTree as ET"
   ]
  },
  {
   "cell_type": "code",
   "execution_count": 65,
   "metadata": {},
   "outputs": [],
   "source": [
    "params = {'key': 'fkrr32n88Wn0Z2oUhDxyA', \n",
    "          'search[field]': 'isbn',\n",
    "          'q': '9780393241037'}\n",
    "url = 'https://www.goodreads.com/search/index.xml'\n",
    "response = requests.get(url, params = params)\n",
    "xml = response.content"
   ]
  },
  {
   "cell_type": "code",
   "execution_count": 71,
   "metadata": {},
   "outputs": [
    {
     "name": "stdout",
     "output_type": "stream",
     "text": [
      "Collecting xmltodict\n",
      "  Downloading https://files.pythonhosted.org/packages/28/fd/30d5c1d3ac29ce229f6bdc40bbc20b28f716e8b363140c26eff19122d8a5/xmltodict-0.12.0-py2.py3-none-any.whl\n",
      "Installing collected packages: xmltodict\n",
      "Successfully installed xmltodict-0.12.0\n"
     ]
    }
   ],
   "source": [
    "!pip install xmltodict"
   ]
  },
  {
   "cell_type": "code",
   "execution_count": 73,
   "metadata": {},
   "outputs": [
    {
     "data": {
      "text/plain": [
       "OrderedDict([('GoodreadsResponse',\n",
       "              OrderedDict([('Request',\n",
       "                            OrderedDict([('authentication', 'true'),\n",
       "                                         ('key', 'fkrr32n88Wn0Z2oUhDxyA'),\n",
       "                                         ('method', 'search_index')])),\n",
       "                           ('search',\n",
       "                            OrderedDict([('query', '9780393241037'),\n",
       "                                         ('results-start', '1'),\n",
       "                                         ('results-end', '1'),\n",
       "                                         ('total-results', '1'),\n",
       "                                         ('source', 'Goodreads'),\n",
       "                                         ('query-time-seconds', '0.01'),\n",
       "                                         ('results',\n",
       "                                          OrderedDict([('work',\n",
       "                                                        OrderedDict([('id',\n",
       "                                                                      OrderedDict([('@type',\n",
       "                                                                                    'integer'),\n",
       "                                                                                   ('#text',\n",
       "                                                                                    '21919697')])),\n",
       "                                                                     ('books_count',\n",
       "                                                                      OrderedDict([('@type',\n",
       "                                                                                    'integer'),\n",
       "                                                                                   ('#text',\n",
       "                                                                                    '18')])),\n",
       "                                                                     ('ratings_count',\n",
       "                                                                      OrderedDict([('@type',\n",
       "                                                                                    'integer'),\n",
       "                                                                                   ('#text',\n",
       "                                                                                    '3735')])),\n",
       "                                                                     ('text_reviews_count',\n",
       "                                                                      OrderedDict([('@type',\n",
       "                                                                                    'integer'),\n",
       "                                                                                   ('#text',\n",
       "                                                                                    '194')])),\n",
       "                                                                     ('original_publication_year',\n",
       "                                                                      OrderedDict([('@type',\n",
       "                                                                                    'integer'),\n",
       "                                                                                   ('#text',\n",
       "                                                                                    '2012')])),\n",
       "                                                                     ('original_publication_month',\n",
       "                                                                      OrderedDict([('@type',\n",
       "                                                                                    'integer'),\n",
       "                                                                                   ('#text',\n",
       "                                                                                    '11')])),\n",
       "                                                                     ('original_publication_day',\n",
       "                                                                      OrderedDict([('@type',\n",
       "                                                                                    'integer'),\n",
       "                                                                                   ('#text',\n",
       "                                                                                    '1')])),\n",
       "                                                                     ('average_rating',\n",
       "                                                                      '3.84'),\n",
       "                                                                     ('best_book',\n",
       "                                                                      OrderedDict([('@type',\n",
       "                                                                                    'Book'),\n",
       "                                                                                   ('id',\n",
       "                                                                                    OrderedDict([('@type',\n",
       "                                                                                                  'integer'),\n",
       "                                                                                                 ('#text',\n",
       "                                                                                                  '17573677')])),\n",
       "                                                                                   ('title',\n",
       "                                                                                    '1,227 Quite Interesting Facts to Blow Your Socks Off'),\n",
       "                                                                                   ('author',\n",
       "                                                                                    OrderedDict([('id',\n",
       "                                                                                                  OrderedDict([('@type',\n",
       "                                                                                                                'integer'),\n",
       "                                                                                                               ('#text',\n",
       "                                                                                                                '1579')])),\n",
       "                                                                                                 ('name',\n",
       "                                                                                                  'John Lloyd')])),\n",
       "                                                                                   ('image_url',\n",
       "                                                                                    'https://i.gr-assets.com/images/S/compressed.photo.goodreads.com/books/1372037346l/17573677._SX98_.jpg'),\n",
       "                                                                                   ('small_image_url',\n",
       "                                                                                    'https://i.gr-assets.com/images/S/compressed.photo.goodreads.com/books/1372037346l/17573677._SY75_.jpg')]))]))]))]))]))])"
      ]
     },
     "execution_count": 73,
     "metadata": {},
     "output_type": "execute_result"
    }
   ],
   "source": [
    "import xmltodict\n",
    "result = xmltodict.parse(xml)\n",
    "result"
   ]
  },
  {
   "cell_type": "code",
   "execution_count": 69,
   "metadata": {},
   "outputs": [
    {
     "ename": "AttributeError",
     "evalue": "'bytes' object has no attribute 'read'",
     "output_type": "error",
     "traceback": [
      "\u001b[0;31m---------------------------------------------------------------------------\u001b[0m",
      "\u001b[0;31mAttributeError\u001b[0m                            Traceback (most recent call last)",
      "\u001b[0;32m<ipython-input-69-70220fcef81f>\u001b[0m in \u001b[0;36m<module>\u001b[0;34m\u001b[0m\n\u001b[0;32m----> 1\u001b[0;31m \u001b[0mxmldoc\u001b[0m \u001b[0;34m=\u001b[0m \u001b[0mminidom\u001b[0m\u001b[0;34m.\u001b[0m\u001b[0mparse\u001b[0m\u001b[0;34m(\u001b[0m\u001b[0mxml\u001b[0m\u001b[0;34m)\u001b[0m\u001b[0;34m\u001b[0m\u001b[0;34m\u001b[0m\u001b[0m\n\u001b[0m",
      "\u001b[0;32m/opt/anaconda3/lib/python3.7/xml/dom/minidom.py\u001b[0m in \u001b[0;36mparse\u001b[0;34m(file, parser, bufsize)\u001b[0m\n\u001b[1;32m   1956\u001b[0m     \u001b[0;32mif\u001b[0m \u001b[0mparser\u001b[0m \u001b[0;32mis\u001b[0m \u001b[0;32mNone\u001b[0m \u001b[0;32mand\u001b[0m \u001b[0;32mnot\u001b[0m \u001b[0mbufsize\u001b[0m\u001b[0;34m:\u001b[0m\u001b[0;34m\u001b[0m\u001b[0;34m\u001b[0m\u001b[0m\n\u001b[1;32m   1957\u001b[0m         \u001b[0;32mfrom\u001b[0m \u001b[0mxml\u001b[0m\u001b[0;34m.\u001b[0m\u001b[0mdom\u001b[0m \u001b[0;32mimport\u001b[0m \u001b[0mexpatbuilder\u001b[0m\u001b[0;34m\u001b[0m\u001b[0;34m\u001b[0m\u001b[0m\n\u001b[0;32m-> 1958\u001b[0;31m         \u001b[0;32mreturn\u001b[0m \u001b[0mexpatbuilder\u001b[0m\u001b[0;34m.\u001b[0m\u001b[0mparse\u001b[0m\u001b[0;34m(\u001b[0m\u001b[0mfile\u001b[0m\u001b[0;34m)\u001b[0m\u001b[0;34m\u001b[0m\u001b[0;34m\u001b[0m\u001b[0m\n\u001b[0m\u001b[1;32m   1959\u001b[0m     \u001b[0;32melse\u001b[0m\u001b[0;34m:\u001b[0m\u001b[0;34m\u001b[0m\u001b[0;34m\u001b[0m\u001b[0m\n\u001b[1;32m   1960\u001b[0m         \u001b[0;32mfrom\u001b[0m \u001b[0mxml\u001b[0m\u001b[0;34m.\u001b[0m\u001b[0mdom\u001b[0m \u001b[0;32mimport\u001b[0m \u001b[0mpulldom\u001b[0m\u001b[0;34m\u001b[0m\u001b[0;34m\u001b[0m\u001b[0m\n",
      "\u001b[0;32m/opt/anaconda3/lib/python3.7/xml/dom/expatbuilder.py\u001b[0m in \u001b[0;36mparse\u001b[0;34m(file, namespaces)\u001b[0m\n\u001b[1;32m    911\u001b[0m             \u001b[0mresult\u001b[0m \u001b[0;34m=\u001b[0m \u001b[0mbuilder\u001b[0m\u001b[0;34m.\u001b[0m\u001b[0mparseFile\u001b[0m\u001b[0;34m(\u001b[0m\u001b[0mfp\u001b[0m\u001b[0;34m)\u001b[0m\u001b[0;34m\u001b[0m\u001b[0;34m\u001b[0m\u001b[0m\n\u001b[1;32m    912\u001b[0m     \u001b[0;32melse\u001b[0m\u001b[0;34m:\u001b[0m\u001b[0;34m\u001b[0m\u001b[0;34m\u001b[0m\u001b[0m\n\u001b[0;32m--> 913\u001b[0;31m         \u001b[0mresult\u001b[0m \u001b[0;34m=\u001b[0m \u001b[0mbuilder\u001b[0m\u001b[0;34m.\u001b[0m\u001b[0mparseFile\u001b[0m\u001b[0;34m(\u001b[0m\u001b[0mfile\u001b[0m\u001b[0;34m)\u001b[0m\u001b[0;34m\u001b[0m\u001b[0;34m\u001b[0m\u001b[0m\n\u001b[0m\u001b[1;32m    914\u001b[0m     \u001b[0;32mreturn\u001b[0m \u001b[0mresult\u001b[0m\u001b[0;34m\u001b[0m\u001b[0;34m\u001b[0m\u001b[0m\n\u001b[1;32m    915\u001b[0m \u001b[0;34m\u001b[0m\u001b[0m\n",
      "\u001b[0;32m/opt/anaconda3/lib/python3.7/xml/dom/expatbuilder.py\u001b[0m in \u001b[0;36mparseFile\u001b[0;34m(self, file)\u001b[0m\n\u001b[1;32m    202\u001b[0m         \u001b[0;32mtry\u001b[0m\u001b[0;34m:\u001b[0m\u001b[0;34m\u001b[0m\u001b[0;34m\u001b[0m\u001b[0m\n\u001b[1;32m    203\u001b[0m             \u001b[0;32mwhile\u001b[0m \u001b[0;36m1\u001b[0m\u001b[0;34m:\u001b[0m\u001b[0;34m\u001b[0m\u001b[0;34m\u001b[0m\u001b[0m\n\u001b[0;32m--> 204\u001b[0;31m                 \u001b[0mbuffer\u001b[0m \u001b[0;34m=\u001b[0m \u001b[0mfile\u001b[0m\u001b[0;34m.\u001b[0m\u001b[0mread\u001b[0m\u001b[0;34m(\u001b[0m\u001b[0;36m16\u001b[0m\u001b[0;34m*\u001b[0m\u001b[0;36m1024\u001b[0m\u001b[0;34m)\u001b[0m\u001b[0;34m\u001b[0m\u001b[0;34m\u001b[0m\u001b[0m\n\u001b[0m\u001b[1;32m    205\u001b[0m                 \u001b[0;32mif\u001b[0m \u001b[0;32mnot\u001b[0m \u001b[0mbuffer\u001b[0m\u001b[0;34m:\u001b[0m\u001b[0;34m\u001b[0m\u001b[0;34m\u001b[0m\u001b[0m\n\u001b[1;32m    206\u001b[0m                     \u001b[0;32mbreak\u001b[0m\u001b[0;34m\u001b[0m\u001b[0;34m\u001b[0m\u001b[0m\n",
      "\u001b[0;31mAttributeError\u001b[0m: 'bytes' object has no attribute 'read'"
     ]
    }
   ],
   "source": [
    "xmldoc = minidom.parse(xml)"
   ]
  },
  {
   "cell_type": "code",
   "execution_count": 68,
   "metadata": {},
   "outputs": [
    {
     "ename": "AttributeError",
     "evalue": "'bytes' object has no attribute 'getElementsByTagName'",
     "output_type": "error",
     "traceback": [
      "\u001b[0;31m---------------------------------------------------------------------------\u001b[0m",
      "\u001b[0;31mAttributeError\u001b[0m                            Traceback (most recent call last)",
      "\u001b[0;32m<ipython-input-68-b0cd748cf093>\u001b[0m in \u001b[0;36m<module>\u001b[0;34m\u001b[0m\n\u001b[1;32m      1\u001b[0m \u001b[0;32mfrom\u001b[0m \u001b[0mxml\u001b[0m\u001b[0;34m.\u001b[0m\u001b[0mdom\u001b[0m \u001b[0;32mimport\u001b[0m \u001b[0mminidom\u001b[0m\u001b[0;34m\u001b[0m\u001b[0;34m\u001b[0m\u001b[0m\n\u001b[0;32m----> 2\u001b[0;31m \u001b[0mitemlist\u001b[0m \u001b[0;34m=\u001b[0m \u001b[0mxml\u001b[0m\u001b[0;34m.\u001b[0m\u001b[0mgetElementsByTagName\u001b[0m\u001b[0;34m(\u001b[0m\u001b[0;34m'item'\u001b[0m\u001b[0;34m)\u001b[0m\u001b[0;34m\u001b[0m\u001b[0;34m\u001b[0m\u001b[0m\n\u001b[0m\u001b[1;32m      3\u001b[0m \u001b[0mprint\u001b[0m\u001b[0;34m(\u001b[0m\u001b[0mitemlist\u001b[0m\u001b[0;34m[\u001b[0m\u001b[0;36m0\u001b[0m\u001b[0;34m]\u001b[0m\u001b[0;34m.\u001b[0m\u001b[0mattributes\u001b[0m\u001b[0;34m[\u001b[0m\u001b[0;34m'title'\u001b[0m\u001b[0;34m]\u001b[0m\u001b[0;34m.\u001b[0m\u001b[0mvalue\u001b[0m\u001b[0;34m(\u001b[0m\u001b[0;34m)\u001b[0m\u001b[0;34m)\u001b[0m\u001b[0;34m\u001b[0m\u001b[0;34m\u001b[0m\u001b[0m\n",
      "\u001b[0;31mAttributeError\u001b[0m: 'bytes' object has no attribute 'getElementsByTagName'"
     ]
    }
   ],
   "source": [
    "from xml.dom import minidom\n",
    "itemlist = xml.getElementsByTagName('item')\n",
    "print(itemlist[0].attributes['title'].value())"
   ]
  },
  {
   "cell_type": "code",
   "execution_count": 43,
   "metadata": {},
   "outputs": [],
   "source": [
    "# requestURL = 'https://www.goodreads.com/search/index.xml?' \\\n",
    "#            + 'key=' + 'fkrr32n88Wn0Z2oUhDxyA' \\\n",
    "#            + 'q=' + '9780393241037' \\\n",
    "#            + 'search[field]=' + 'isbn'\n",
    "\n",
    "# root = et.parse(urllib.request.urlopen(requestURL)).getroot()"
   ]
  },
  {
   "cell_type": "code",
   "execution_count": 24,
   "metadata": {},
   "outputs": [],
   "source": [
    "import xml.etree.ElementTree as et"
   ]
  },
  {
   "cell_type": "code",
   "execution_count": 61,
   "metadata": {},
   "outputs": [
    {
     "data": {
      "text/plain": [
       "<Element 'GoodreadsResponse' at 0x110c92590>"
      ]
     },
     "execution_count": 61,
     "metadata": {},
     "output_type": "execute_result"
    }
   ],
   "source": [
    "root = et.fromstring(response.content)"
   ]
  },
  {
   "cell_type": "code",
   "execution_count": 64,
   "metadata": {},
   "outputs": [],
   "source": [
    "for type_tag in root.findall('GoodreadsResponse'):\n",
    "    print(type_tag)\n",
    "#     value = type_tag.get('results')\n",
    "#     print(value)"
   ]
  },
  {
   "cell_type": "code",
   "execution_count": 53,
   "metadata": {},
   "outputs": [
    {
     "name": "stdout",
     "output_type": "stream",
     "text": [
      "GoodreadsResponse {}\n",
      "Request {}\n",
      "authentication {}\n",
      "key {}\n",
      "method {}\n",
      "search {}\n",
      "query {}\n",
      "results-start {}\n",
      "results-end {}\n",
      "total-results {}\n",
      "source {}\n",
      "query-time-seconds {}\n",
      "results {}\n",
      "work {}\n",
      "id {'type': 'integer'}\n",
      "books_count {'type': 'integer'}\n",
      "ratings_count {'type': 'integer'}\n",
      "text_reviews_count {'type': 'integer'}\n",
      "original_publication_year {'type': 'integer'}\n",
      "original_publication_month {'type': 'integer'}\n",
      "original_publication_day {'type': 'integer'}\n",
      "average_rating {}\n",
      "best_book {'type': 'Book'}\n",
      "id {'type': 'integer'}\n",
      "title {}\n",
      "author {}\n",
      "id {'type': 'integer'}\n",
      "name {}\n",
      "image_url {}\n",
      "small_image_url {}\n"
     ]
    }
   ],
   "source": [
    "for child in root.iter('*'):\n",
    "    print(child.tag, child.attrib)"
   ]
  },
  {
   "cell_type": "code",
   "execution_count": 56,
   "metadata": {},
   "outputs": [
    {
     "ename": "SyntaxError",
     "evalue": "invalid syntax (<ipython-input-56-d8cd5b18c934>, line 1)",
     "output_type": "error",
     "traceback": [
      "\u001b[0;36m  File \u001b[0;32m\"<ipython-input-56-d8cd5b18c934>\"\u001b[0;36m, line \u001b[0;32m1\u001b[0m\n\u001b[0;31m    response.content<results>\u001b[0m\n\u001b[0m                             ^\u001b[0m\n\u001b[0;31mSyntaxError\u001b[0m\u001b[0;31m:\u001b[0m invalid syntax\n"
     ]
    }
   ],
   "source": [
    "response.content"
   ]
  },
  {
   "cell_type": "code",
   "execution_count": null,
   "metadata": {},
   "outputs": [],
   "source": []
  }
 ],
 "metadata": {
  "kernelspec": {
   "display_name": "Python 3",
   "language": "python",
   "name": "python3"
  },
  "language_info": {
   "codemirror_mode": {
    "name": "ipython",
    "version": 3
   },
   "file_extension": ".py",
   "mimetype": "text/x-python",
   "name": "python",
   "nbconvert_exporter": "python",
   "pygments_lexer": "ipython3",
   "version": "3.7.4"
  }
 },
 "nbformat": 4,
 "nbformat_minor": 2
}
